{
 "cells": [
  {
   "cell_type": "code",
   "execution_count": 1,
   "metadata": {},
   "outputs": [],
   "source": [
    "import pickle\n",
    "from sys import path\n",
    "path.append(\"../SolMOSA\")\n",
    "import CDG"
   ]
  },
  {
   "cell_type": "code",
   "execution_count": 2,
   "metadata": {},
   "outputs": [],
   "source": [
    "with open('cdg.p', 'rb') as f:\n",
    "    cdg = pickle.load(f)"
   ]
  },
  {
   "cell_type": "code",
   "execution_count": 3,
   "metadata": {},
   "outputs": [
    {
     "name": "stdout",
     "output_type": "stream",
     "text": [
      "Nodes:\n",
      "Node_id: ('_fallback', 1)\n",
      "\tstart_pc: 63\n",
      "\tend_pc: 67\n",
      "\tincoming node ids: [('_dispatcher', 1), ('_dispatcher', 2)]\n",
      "\toutgoing node ids: []\n",
      "Node_id: ('0x54d31552', 6)\n",
      "\tstart_pc: 158\n",
      "\tend_pc: 164\n",
      "\tincoming node ids: [('0x54d31552', 1)]\n",
      "\toutgoing node ids: [('0x54d31552', 8)]\n",
      "Node_id: ('0x54d31552', 7)\n",
      "\tstart_pc: 165\n",
      "\tend_pc: 169\n",
      "\tincoming node ids: [('0x54d31552', 1)]\n",
      "\toutgoing node ids: [('0x54d31552', 8)]\n",
      "Node_id: ('0x54d31552', 8)\n",
      "\tstart_pc: 170\n",
      "\tend_pc: 146\n",
      "\tincoming node ids: [('0x54d31552', 6), ('0x54d31552', 7)]\n",
      "\toutgoing node ids: []\n",
      "Node_id: ('_dispatcher', 1)\n",
      "\tstart_pc: 0\n",
      "\tend_pc: 11\n",
      "\tincoming node ids: []\n",
      "\toutgoing node ids: [('_dispatcher', 2), ('_fallback', 1)]\n",
      "Node_id: ('_dispatcher', 2)\n",
      "\tstart_pc: 12\n",
      "\tend_pc: 62\n",
      "\tincoming node ids: [('_dispatcher', 1)]\n",
      "\toutgoing node ids: [('_fallback', 1), ('0x54d31552', 1)]\n",
      "Node_id: ('0x54d31552', 1)\n",
      "\tstart_pc: 68\n",
      "\tend_pc: 157\n",
      "\tincoming node ids: [('_dispatcher', 2)]\n",
      "\toutgoing node ids: [('0x54d31552', 6), ('0x54d31552', 7)]\n",
      "Edges:\n",
      "Edge from ('0x54d31552', 1), to ('0x54d31552', 8) with predicate LT\n",
      "Edge from ('_dispatcher', 1), to ('_fallback', 1) with predicate LT\n",
      "Edge from ('_dispatcher', 2), to ('0x54d31552', 1) with predicate EQ\n",
      "Edge from ('0x54d31552', 1), to ('0x54d31552', 7) with predicate LT\n",
      "Edge from ('_dispatcher', 1), to ('_dispatcher', 2) with predicate LT\n",
      "Edge from ('_dispatcher', 2), to ('_fallback', 1) with predicate EQ\n",
      "Edge from ('0x54d31552', 1), to ('0x54d31552', 6) with predicate LT\n"
     ]
    }
   ],
   "source": [
    "cdg.Show_CDG()"
   ]
  }
 ],
 "metadata": {
  "kernelspec": {
   "display_name": "Python 3",
   "language": "python",
   "name": "python3"
  },
  "language_info": {
   "codemirror_mode": {
    "name": "ipython",
    "version": 3
   },
   "file_extension": ".py",
   "mimetype": "text/x-python",
   "name": "python",
   "nbconvert_exporter": "python",
   "pygments_lexer": "ipython3",
   "version": "3.7.3"
  }
 },
 "nbformat": 4,
 "nbformat_minor": 2
}
